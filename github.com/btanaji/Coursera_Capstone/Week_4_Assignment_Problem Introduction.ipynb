{
    "nbformat_minor": 1, 
    "cells": [
        {
            "source": "# 1. Introduction", 
            "cell_type": "markdown", 
            "metadata": {
                "collapsed": true
            }
        }, 
        {
            "source": "## 1.1 Background", 
            "cell_type": "markdown", 
            "metadata": {}
        }, 
        {
            "source": "The average American moves about eleven times in their lifetime. This brings us to the\nquestion: Do people move until they find a place to settle down where they truly feel happy,\nor do our wants and needs change over time, prompting us to eventually leave a town we\nonce called home for a new area that will bring us satisfaction? Or, do we too often move to\na new area without knowing exactly what we\u2019re getting into, forcing us to turn tail and run at\nthe first sign of discomfort?", 
            "cell_type": "markdown", 
            "metadata": {}
        }, 
        {
            "source": "To minimize the chances of this happening, we should always do proper research when\nplanning our next move in life. Consider the following factors when picking a new place to\nlive so you don\u2019t end up wasting your valuable time and money making a move you\u2019ll end\nup regretting. Safety is a top concern when moving to a new area. If you don\u2019t feel safe in\nyour own home, you\u2019re not going to be able to enjoy living there.", 
            "cell_type": "markdown", 
            "metadata": {}
        }, 
        {
            "source": "## 1.2 Problem", 
            "cell_type": "markdown", 
            "metadata": {}
        }, 
        {
            "source": "The crime statistics dataset of London found on Kaggle has crimes in each Boroughs of\nLondon from 2008 to 2016. The year 2016 being the latest we will be considering the data\nof that year which is actually old information as of now. The crime rates in each borough\nmay have changed over time.", 
            "cell_type": "markdown", 
            "metadata": {}
        }, 
        {
            "source": "This project aims to select the safest borough in London based on the total crimes, explore\nthe neighborhoods of that borough to find the 10 most common venues in each\nneighborhood and finally cluster the neighborhoods using k-mean clustering.", 
            "cell_type": "markdown", 
            "metadata": {}
        }, 
        {
            "source": "## 1.3 Interest", 
            "cell_type": "markdown", 
            "metadata": {}
        }, 
        {
            "source": "Expats who are considering to relocate to London will be interested to identify the safest\nborough in London and explore its neighborhoods and common venues around each\nneighborhood.", 
            "cell_type": "markdown", 
            "metadata": {}
        }, 
        {
            "execution_count": null, 
            "cell_type": "code", 
            "metadata": {}, 
            "outputs": [], 
            "source": ""
        }
    ], 
    "metadata": {
        "kernelspec": {
            "display_name": "Python 3.6", 
            "name": "python3", 
            "language": "python"
        }, 
        "language_info": {
            "mimetype": "text/x-python", 
            "nbconvert_exporter": "python", 
            "version": "3.6.8", 
            "name": "python", 
            "file_extension": ".py", 
            "pygments_lexer": "ipython3", 
            "codemirror_mode": {
                "version": 3, 
                "name": "ipython"
            }
        }
    }, 
    "nbformat": 4
}